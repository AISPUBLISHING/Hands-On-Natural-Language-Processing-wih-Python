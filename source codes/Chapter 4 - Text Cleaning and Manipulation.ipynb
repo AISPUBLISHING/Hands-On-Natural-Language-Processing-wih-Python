{
 "cells": [
  {
   "cell_type": "markdown",
   "metadata": {},
   "source": [
    "1. Introduction to Regular Expressions\n",
    "2. Searching Patterns in Strings\n",
    "3. Substituting Text in Strings\n",
    "4. Removing Texts and Alphabets from Strings\n",
    "5. Removing Special Characters from Strings\n",
    "6. Removing Spaces\n",
    "7. Miscellaneous String Functions\n",
    "8. Further Reading\n",
    "9. Exercises \n"
   ]
  },
  {
   "cell_type": "markdown",
   "metadata": {},
   "source": [
    "### 4.1. Introduction to Regular Expressions"
   ]
  },
  {
   "cell_type": "code",
   "execution_count": 2,
   "metadata": {},
   "outputs": [],
   "source": [
    "import re"
   ]
  },
  {
   "cell_type": "markdown",
   "metadata": {},
   "source": [
    "### 4.2. Searching Patterns in Text"
   ]
  },
  {
   "cell_type": "code",
   "execution_count": 2,
   "metadata": {},
   "outputs": [],
   "source": [
    "sentence = \"France won the FIFA World Cup 2018\""
   ]
  },
  {
   "cell_type": "code",
   "execution_count": 3,
   "metadata": {},
   "outputs": [
    {
     "name": "stdout",
     "output_type": "stream",
     "text": [
      "<re.Match object; span=(0, 34), match='France won the FIFA World Cup 2018'>\n"
     ]
    }
   ],
   "source": [
    "output = re.match(r\".*\", sentence)\n",
    "print(output)"
   ]
  },
  {
   "cell_type": "code",
   "execution_count": 4,
   "metadata": {},
   "outputs": [
    {
     "name": "stdout",
     "output_type": "stream",
     "text": [
      "France won the FIFA World Cup 2018\n"
     ]
    }
   ],
   "source": [
    "print(output.group(0))"
   ]
  },
  {
   "cell_type": "code",
   "execution_count": 5,
   "metadata": {},
   "outputs": [
    {
     "name": "stdout",
     "output_type": "stream",
     "text": [
      "<re.Match object; span=(0, 0), match=''>\n"
     ]
    }
   ],
   "source": [
    "sentence = \"\"\n",
    "output = re.match(r\".*\", sentence)\n",
    "print(output)"
   ]
  },
  {
   "cell_type": "code",
   "execution_count": 6,
   "metadata": {},
   "outputs": [
    {
     "name": "stdout",
     "output_type": "stream",
     "text": [
      "None\n"
     ]
    }
   ],
   "source": [
    "sentence = \"\"\n",
    "output = re.match(r\".+\", sentence)\n",
    "print(output)"
   ]
  },
  {
   "cell_type": "code",
   "execution_count": 7,
   "metadata": {},
   "outputs": [
    {
     "name": "stdout",
     "output_type": "stream",
     "text": [
      "France won the FIFA World Cup \n"
     ]
    }
   ],
   "source": [
    "sentence = \"France won the FIFA World Cup 2018\"\n",
    "output = re.match(r\"[a-zA-z ]+\", sentence)\n",
    "print(output.group())"
   ]
  },
  {
   "cell_type": "code",
   "execution_count": 8,
   "metadata": {},
   "outputs": [
    {
     "name": "stdout",
     "output_type": "stream",
     "text": [
      "None\n"
     ]
    }
   ],
   "source": [
    "sentence = \"2018 was the year when France won the FIFA World Cup\"\n",
    "output = re.match(r\"[a-zA-z ]+\", sentence)\n",
    "print(output)"
   ]
  },
  {
   "cell_type": "code",
   "execution_count": 9,
   "metadata": {},
   "outputs": [
    {
     "name": "stdout",
     "output_type": "stream",
     "text": [
      " was the year when France won the FIFA World Cup\n"
     ]
    }
   ],
   "source": [
    "sentence = \"2018 was the year when France won the FIFA World Cup\"\n",
    "output = re.search(r\"[a-zA-z ]+\", sentence)\n",
    "print(output.group(0))"
   ]
  },
  {
   "cell_type": "markdown",
   "metadata": {},
   "source": [
    "### 4.3. Substituting Text in strings"
   ]
  },
  {
   "cell_type": "code",
   "execution_count": 10,
   "metadata": {},
   "outputs": [
    {
     "name": "stdout",
     "output_type": "stream",
     "text": [
      "France won the FIFA World Cup 1998\n"
     ]
    }
   ],
   "source": [
    "sentence = \"France won the FIFA World Cup 2018\"\n",
    "output = re.sub(r\"2018\", \"1998\", sentence)\n",
    "print(output)"
   ]
  },
  {
   "cell_type": "code",
   "execution_count": 11,
   "metadata": {},
   "outputs": [
    {
     "name": "stdout",
     "output_type": "stream",
     "text": [
      "Fr*n** won th* FIFA Worl* Cup 2018\n"
     ]
    }
   ],
   "source": [
    "sentence = \"France won the FIFA World Cup 2018\"\n",
    "output = re.sub(r\"[a-f]\", \"*\", sentence)\n",
    "print(output)"
   ]
  },
  {
   "cell_type": "markdown",
   "metadata": {},
   "source": [
    "### 4.4. Removing Digits and Alphabets from a String"
   ]
  },
  {
   "cell_type": "code",
   "execution_count": 12,
   "metadata": {},
   "outputs": [
    {
     "name": "stdout",
     "output_type": "stream",
     "text": [
      "France won the FIFA World Cup \n"
     ]
    }
   ],
   "source": [
    "sentence = \"France won the FIFA World Cup 2018\"\n",
    "output = re.sub(r\"\\d\", \"\", sentence)\n",
    "print(output)"
   ]
  },
  {
   "cell_type": "code",
   "execution_count": 13,
   "metadata": {},
   "outputs": [
    {
     "name": "stdout",
     "output_type": "stream",
     "text": [
      "France won the FIFA World Cup 2018 \n"
     ]
    }
   ],
   "source": [
    "sentence = \"France won the FIFA World Cup 2018 a \"\n",
    "result = re.sub(r\"\\s+[a-zA-Z]\\s+\", \" \", sentence )\n",
    "print(result)"
   ]
  },
  {
   "cell_type": "code",
   "execution_count": 14,
   "metadata": {},
   "outputs": [
    {
     "name": "stdout",
     "output_type": "stream",
     "text": [
      "      2018\n"
     ]
    }
   ],
   "source": [
    "sentence = \"France won the FIFA World Cup 2018\"\n",
    "output = re.sub(r\"[a-z]\", \"\", sentence, flags =re.I)\n",
    "print(output)"
   ]
  },
  {
   "cell_type": "markdown",
   "metadata": {},
   "source": [
    "### 4.5. Removing Empty Spaces from Strings"
   ]
  },
  {
   "cell_type": "code",
   "execution_count": 15,
   "metadata": {},
   "outputs": [
    {
     "name": "stdout",
     "output_type": "stream",
     "text": [
      "2018\n"
     ]
    }
   ],
   "source": [
    "sentence = \"      2018\"\n",
    "output = re.sub(r\"\\s+\", \"\", sentence, flags =re.I)\n",
    "print(output)"
   ]
  },
  {
   "cell_type": "markdown",
   "metadata": {},
   "source": [
    "### 4.6. Removing Special Characters from strings"
   ]
  },
  {
   "cell_type": "code",
   "execution_count": 5,
   "metadata": {},
   "outputs": [
    {
     "name": "stdout",
     "output_type": "stream",
     "text": [
      "@//+-&*\n"
     ]
    }
   ],
   "source": [
    "sentence = \"Fr@nce won // the + - & * FIFA World Cup 2018\"\n",
    "output = re.sub(r\"[\\w ]\", \"\", sentence, flags =re.I)\n",
    "print(output)"
   ]
  },
  {
   "cell_type": "code",
   "execution_count": 17,
   "metadata": {},
   "outputs": [
    {
     "name": "stdout",
     "output_type": "stream",
     "text": [
      "Frnce won  the     FIFA World Cup 2018\n"
     ]
    }
   ],
   "source": [
    "sentence = \"Fr@nce won // the + - & * FIFA World Cup 2018\"\n",
    "output = re.sub(r\"[^a-zA-z0-9 ]\", \"\", sentence, flags =re.I)\n",
    "print(output)"
   ]
  },
  {
   "cell_type": "markdown",
   "metadata": {},
   "source": [
    "### 4.7.Miscellaneous String Functions"
   ]
  },
  {
   "cell_type": "markdown",
   "metadata": {},
   "source": [
    "#### Finding String Length"
   ]
  },
  {
   "cell_type": "code",
   "execution_count": 18,
   "metadata": {},
   "outputs": [
    {
     "name": "stdout",
     "output_type": "stream",
     "text": [
      "34\n"
     ]
    }
   ],
   "source": [
    "sentence = \"France won the FIFA World Cup 2018\"\n",
    "print(len(sentence))"
   ]
  },
  {
   "cell_type": "markdown",
   "metadata": {},
   "source": [
    "#### Splitting a String"
   ]
  },
  {
   "cell_type": "code",
   "execution_count": 1,
   "metadata": {},
   "outputs": [
    {
     "name": "stdout",
     "output_type": "stream",
     "text": [
      "['France', 'won', 'the', 'FIFA', 'World', 'Cup', '2018']\n"
     ]
    }
   ],
   "source": [
    "sentence = \"France won the FIFA World Cup 2018\"\n",
    "print(sentence.split())"
   ]
  },
  {
   "cell_type": "markdown",
   "metadata": {},
   "source": [
    "#### Joining Strings"
   ]
  },
  {
   "cell_type": "code",
   "execution_count": 20,
   "metadata": {},
   "outputs": [
    {
     "name": "stdout",
     "output_type": "stream",
     "text": [
      "France won the FIFA World Cup 2018\n"
     ]
    }
   ],
   "source": [
    "sentence1 = \"France won the \"\n",
    "sentence2 = \"FIFA World Cup 2018\"\n",
    "output = sentence1 + sentence2\n",
    "print(output)"
   ]
  },
  {
   "cell_type": "markdown",
   "metadata": {},
   "source": [
    "#### Finding Start and End of a String"
   ]
  },
  {
   "cell_type": "code",
   "execution_count": 21,
   "metadata": {},
   "outputs": [
    {
     "name": "stdout",
     "output_type": "stream",
     "text": [
      "True\n"
     ]
    }
   ],
   "source": [
    "sentence = \"France won the FIFA World Cup 2018\"\n",
    "print(sentence.startswith(\"France\"))"
   ]
  },
  {
   "cell_type": "code",
   "execution_count": 22,
   "metadata": {},
   "outputs": [
    {
     "name": "stdout",
     "output_type": "stream",
     "text": [
      "False\n"
     ]
    }
   ],
   "source": [
    "sentence = \"France won the FIFA World Cup 2018\"\n",
    "print(sentence.endswith(\"France\"))"
   ]
  },
  {
   "cell_type": "markdown",
   "metadata": {},
   "source": [
    "#### Changing String Case"
   ]
  },
  {
   "cell_type": "code",
   "execution_count": 23,
   "metadata": {},
   "outputs": [
    {
     "name": "stdout",
     "output_type": "stream",
     "text": [
      "france won the fifa world cup 2018\n"
     ]
    }
   ],
   "source": [
    "sentence = \"France won the FIFA World Cup 2018\"\n",
    "print(sentence.lower())"
   ]
  },
  {
   "cell_type": "code",
   "execution_count": 24,
   "metadata": {},
   "outputs": [
    {
     "name": "stdout",
     "output_type": "stream",
     "text": [
      "FRANCE WON THE FIFA WORLD CUP 2018\n"
     ]
    }
   ],
   "source": [
    "sentence = \"France won the FIFA World Cup 2018\"\n",
    "print(sentence.upper())"
   ]
  },
  {
   "cell_type": "markdown",
   "metadata": {},
   "source": [
    "#### Finding Substring in a String"
   ]
  },
  {
   "cell_type": "code",
   "execution_count": 25,
   "metadata": {},
   "outputs": [
    {
     "name": "stdout",
     "output_type": "stream",
     "text": [
      "True\n"
     ]
    }
   ],
   "source": [
    "sentence = \"France won the FIFA World Cup 2018\"\n",
    "print(\"France\" in sentence)"
   ]
  },
  {
   "cell_type": "code",
   "execution_count": 26,
   "metadata": {},
   "outputs": [
    {
     "name": "stdout",
     "output_type": "stream",
     "text": [
      "False\n"
     ]
    }
   ],
   "source": [
    "sentence = \"France won the FIFA World Cup 2018\"\n",
    "print(\"England\" in sentence)"
   ]
  },
  {
   "cell_type": "markdown",
   "metadata": {},
   "source": [
    "### 4.8.Further Readings "
   ]
  },
  {
   "cell_type": "markdown",
   "metadata": {},
   "source": [
    "#Official Python String Functions\n",
    "https://docs.python.org/2.5/lib/string-methods.html\n",
    "\n",
    "#Official Regex Functions Documentation\n",
    "https://docs.python.org/3/library/re.html"
   ]
  },
  {
   "cell_type": "markdown",
   "metadata": {},
   "source": [
    "### Exercise 4.1"
   ]
  },
  {
   "cell_type": "markdown",
   "metadata": {},
   "source": [
    "Consider the following sentence:\n",
    "    \n",
    "sentence = \"Nick's car was sold for $ 1500\".\n",
    "\n",
    "Perform the following task on the above sentence:\n",
    "    \n",
    "1. Replace special characters with empty spaces\n",
    "2. Remove multiple empty spaces and replace them by a single space\n",
    "3. Remove any single character\n",
    "4. Convert the text to all lower case\n",
    "5. Split the text to individual words"
   ]
  },
  {
   "cell_type": "markdown",
   "metadata": {},
   "source": [
    "**Solution:**"
   ]
  },
  {
   "cell_type": "code",
   "execution_count": 27,
   "metadata": {},
   "outputs": [
    {
     "name": "stdout",
     "output_type": "stream",
     "text": [
      "Nick s car was sold for   1500 \n",
      "Nick s car was sold for 1500 \n",
      "Nick car was sold for 1500 \n",
      "nick car was sold for 1500 \n",
      "['nick', 'car', 'was', 'sold', 'for', '1500', '']\n"
     ]
    }
   ],
   "source": [
    "sentence = \"Nick's car was sold for $ 1500.\"\n",
    "\n",
    "sentence = re.sub(r\"[^\\w ]\", \" \", sentence, flags =re.I)\n",
    "print(sentence)\n",
    "\n",
    "sentence = re.sub(r\"\\s+\", \" \", sentence, flags =re.I)\n",
    "print(sentence)\n",
    "\n",
    "sentence  = re.sub(r\"\\s+[a-zA-Z]\\s+\", \" \", sentence)\n",
    "print(sentence)\n",
    "\n",
    "sentence = sentence.lower()\n",
    "print(sentence)\n",
    "\n",
    "sentence = sentence.split(\" \")\n",
    "print(sentence)"
   ]
  },
  {
   "cell_type": "markdown",
   "metadata": {},
   "source": [
    "### Exercise 4.2"
   ]
  },
  {
   "cell_type": "markdown",
   "metadata": {},
   "source": [
    "**Question 1:**\n",
    "\n",
    "To remove special characters from a string, which regular expression can be used:\n",
    "\n",
    "A. re.sub(r\"[^\\w ]\", \"\", sentence, flags =re.I)\n",
    "\n",
    "B. re.sub(r\"[^a-zA-z0-9 ]\", \"\", sentence, flags =re.I)\n",
    "\n",
    "C. Both A and B\n",
    "\n",
    "D. None of the Above\n",
    "\n",
    "**Answer: C**\n",
    "    \n",
    "\n",
    "**Question 2:**\n",
    "\n",
    "To find if a string exists in another substring, we can use:\n",
    "\n",
    "A. contains operator\n",
    "\n",
    "B. exist operator\n",
    "\n",
    "C. in operator\n",
    " \n",
    "D. substring operator\n",
    "\n",
    "**Answer: C**\n",
    "    \n",
    "    \n",
    "**Question 3:**\n",
    "\n",
    "Which regular expression is used to match any string with at least 1 character:\n",
    "\n",
    "A. re.match(r\".*\", sentence)\n",
    "\n",
    "B. re.match(r\".+\", sentence)\n",
    "\n",
    "C. re.match(r\".-\", sentence)\n",
    "\n",
    "D. re.match(r\"./\", sentence)\n",
    "    \n",
    "**Answer: B**"
   ]
  },
  {
   "cell_type": "code",
   "execution_count": null,
   "metadata": {},
   "outputs": [],
   "source": []
  }
 ],
 "metadata": {
  "kernelspec": {
   "display_name": "Python 3",
   "language": "python",
   "name": "python3"
  },
  "language_info": {
   "codemirror_mode": {
    "name": "ipython",
    "version": 3
   },
   "file_extension": ".py",
   "mimetype": "text/x-python",
   "name": "python",
   "nbconvert_exporter": "python",
   "pygments_lexer": "ipython3",
   "version": "3.7.4"
  }
 },
 "nbformat": 4,
 "nbformat_minor": 2
}
