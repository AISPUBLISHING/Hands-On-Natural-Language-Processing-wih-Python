{
  "nbformat": 4,
  "nbformat_minor": 0,
  "metadata": {
    "colab": {
      "name": "Chapter 10.2 - Sentimental Analysis with CNN.ipynb",
      "provenance": [],
      "collapsed_sections": []
    },
    "kernelspec": {
      "name": "python3",
      "display_name": "Python 3"
    }
  },
  "cells": [
    {
      "cell_type": "code",
      "metadata": {
        "id": "-Kqbv9F0osEP",
        "colab_type": "code",
        "colab": {}
      },
      "source": [
        "import pandas as pd\n",
        "import numpy as np\n",
        "import re\n",
        "import nltk\n",
        "from nltk.corpus import stopwords\n",
        "\n",
        "from numpy import array\n",
        "from tensorflow.keras.preprocessing.text import one_hot\n",
        "from tensorflow.keras.preprocessing.sequence import pad_sequences\n",
        "from tensorflow.keras.models import Sequential\n",
        "from tensorflow.keras.layers import Activation, LSTM, Dropout, Dense, Flatten, Input,  Embedding, Conv1D, Input\n",
        "from tensorflow.keras.models import Model\n",
        "from sklearn.model_selection import train_test_split\n",
        "from tensorflow.keras.preprocessing.text import Tokenizer"
      ],
      "execution_count": null,
      "outputs": []
    },
    {
      "cell_type": "code",
      "metadata": {
        "id": "LqWgYPwJo3-s",
        "colab_type": "code",
        "colab": {
          "base_uri": "https://localhost:8080/",
          "height": 34
        },
        "outputId": "6db44913-f5fb-4073-b511-cd19f01c94f7"
      },
      "source": [
        "from google.colab import drive\n",
        "drive.mount('/gdrive')"
      ],
      "execution_count": null,
      "outputs": [
        {
          "output_type": "stream",
          "text": [
            "Drive already mounted at /gdrive; to attempt to forcibly remount, call drive.mount(\"/gdrive\", force_remount=True).\n"
          ],
          "name": "stdout"
        }
      ]
    },
    {
      "cell_type": "code",
      "metadata": {
        "id": "cllOmIfgpWzX",
        "colab_type": "code",
        "colab": {
          "base_uri": "https://localhost:8080/",
          "height": 204
        },
        "outputId": "dee7bde5-3b8a-4a8f-b39d-c8aec3f37026"
      },
      "source": [
        "imdb_data= pd.read_csv(\"/gdrive/My Drive/datasets/IMDB Dataset.csv\")\n",
        "\n",
        "imdb_data.head()\n"
      ],
      "execution_count": null,
      "outputs": [
        {
          "output_type": "execute_result",
          "data": {
            "text/html": [
              "<div>\n",
              "<style scoped>\n",
              "    .dataframe tbody tr th:only-of-type {\n",
              "        vertical-align: middle;\n",
              "    }\n",
              "\n",
              "    .dataframe tbody tr th {\n",
              "        vertical-align: top;\n",
              "    }\n",
              "\n",
              "    .dataframe thead th {\n",
              "        text-align: right;\n",
              "    }\n",
              "</style>\n",
              "<table border=\"1\" class=\"dataframe\">\n",
              "  <thead>\n",
              "    <tr style=\"text-align: right;\">\n",
              "      <th></th>\n",
              "      <th>review</th>\n",
              "      <th>sentiment</th>\n",
              "    </tr>\n",
              "  </thead>\n",
              "  <tbody>\n",
              "    <tr>\n",
              "      <th>0</th>\n",
              "      <td>One of the other reviewers has mentioned that ...</td>\n",
              "      <td>positive</td>\n",
              "    </tr>\n",
              "    <tr>\n",
              "      <th>1</th>\n",
              "      <td>A wonderful little production. &lt;br /&gt;&lt;br /&gt;The...</td>\n",
              "      <td>positive</td>\n",
              "    </tr>\n",
              "    <tr>\n",
              "      <th>2</th>\n",
              "      <td>I thought this was a wonderful way to spend ti...</td>\n",
              "      <td>positive</td>\n",
              "    </tr>\n",
              "    <tr>\n",
              "      <th>3</th>\n",
              "      <td>Basically there's a family where a little boy ...</td>\n",
              "      <td>negative</td>\n",
              "    </tr>\n",
              "    <tr>\n",
              "      <th>4</th>\n",
              "      <td>Petter Mattei's \"Love in the Time of Money\" is...</td>\n",
              "      <td>positive</td>\n",
              "    </tr>\n",
              "  </tbody>\n",
              "</table>\n",
              "</div>"
            ],
            "text/plain": [
              "                                              review sentiment\n",
              "0  One of the other reviewers has mentioned that ...  positive\n",
              "1  A wonderful little production. <br /><br />The...  positive\n",
              "2  I thought this was a wonderful way to spend ti...  positive\n",
              "3  Basically there's a family where a little boy ...  negative\n",
              "4  Petter Mattei's \"Love in the Time of Money\" is...  positive"
            ]
          },
          "metadata": {
            "tags": []
          },
          "execution_count": 3
        }
      ]
    },
    {
      "cell_type": "code",
      "metadata": {
        "id": "p2pyuta6pmaK",
        "colab_type": "code",
        "colab": {
          "base_uri": "https://localhost:8080/",
          "height": 68
        },
        "outputId": "a0b99b47-4511-482f-840f-c56abdd851bb"
      },
      "source": [
        "imdb_data.sentiment.value_counts()"
      ],
      "execution_count": null,
      "outputs": [
        {
          "output_type": "execute_result",
          "data": {
            "text/plain": [
              "positive    25000\n",
              "negative    25000\n",
              "Name: sentiment, dtype: int64"
            ]
          },
          "metadata": {
            "tags": []
          },
          "execution_count": 4
        }
      ]
    },
    {
      "cell_type": "code",
      "metadata": {
        "id": "lgoVgRGsqRyD",
        "colab_type": "code",
        "colab": {}
      },
      "source": [
        "X = imdb_data[\"review\"]\n",
        "\n",
        "y = pd.get_dummies(imdb_data.sentiment, prefix='sent', drop_first=True).values"
      ],
      "execution_count": null,
      "outputs": []
    },
    {
      "cell_type": "code",
      "metadata": {
        "id": "rXDIptL5qb6x",
        "colab_type": "code",
        "colab": {
          "base_uri": "https://localhost:8080/",
          "height": 34
        },
        "outputId": "206ecb67-da23-4bbd-8bc9-00ff1372b371"
      },
      "source": [
        "y.shape"
      ],
      "execution_count": null,
      "outputs": [
        {
          "output_type": "execute_result",
          "data": {
            "text/plain": [
              "(50000, 1)"
            ]
          },
          "metadata": {
            "tags": []
          },
          "execution_count": 6
        }
      ]
    },
    {
      "cell_type": "code",
      "metadata": {
        "id": "HETn5SLJrVV7",
        "colab_type": "code",
        "colab": {}
      },
      "source": [
        "def clean_text(doc):\n",
        "\n",
        "    document = remove_tags(doc)\n",
        "\n",
        "    document = re.sub('[^a-zA-Z]', ' ', document)\n",
        "\n",
        "    document = re.sub(r\"\\s+[a-zA-Z]\\s+\", ' ', document)\n",
        "\n",
        "    document = re.sub(r'\\s+', ' ', document)\n",
        "\n",
        "    return document"
      ],
      "execution_count": null,
      "outputs": []
    },
    {
      "cell_type": "code",
      "metadata": {
        "id": "BAWQ9_Iqrnul",
        "colab_type": "code",
        "colab": {}
      },
      "source": [
        "TAG_RE = re.compile(r'<[^>]+>')\n",
        "\n",
        "def remove_tags(document):\n",
        "    return TAG_RE.sub('', document)"
      ],
      "execution_count": null,
      "outputs": []
    },
    {
      "cell_type": "code",
      "metadata": {
        "id": "HbskLqxersOr",
        "colab_type": "code",
        "colab": {}
      },
      "source": [
        "X_sentences = []\n",
        "reviews = list(X)\n",
        "for rev in reviews:\n",
        "    X_sentences.append(clean_text(rev))"
      ],
      "execution_count": null,
      "outputs": []
    },
    {
      "cell_type": "code",
      "metadata": {
        "id": "MrMXaAxKsBcb",
        "colab_type": "code",
        "colab": {}
      },
      "source": [
        "X_train, X_test, y_train, y_test = train_test_split(X_sentences, y, test_size=0.20, random_state=42)"
      ],
      "execution_count": null,
      "outputs": []
    },
    {
      "cell_type": "code",
      "metadata": {
        "id": "wsDmCvWGs9IZ",
        "colab_type": "code",
        "colab": {}
      },
      "source": [
        "tokenizer = Tokenizer(num_words=5000)\n",
        "tokenizer.fit_on_texts(X_train)\n",
        "\n",
        "X_train = tokenizer.texts_to_sequences(X_train)\n",
        "X_test = tokenizer.texts_to_sequences(X_test)"
      ],
      "execution_count": null,
      "outputs": []
    },
    {
      "cell_type": "code",
      "metadata": {
        "id": "HhM5AyrHtGDM",
        "colab_type": "code",
        "colab": {}
      },
      "source": [
        "vocab_size = len(tokenizer.word_index) + 1\n",
        "\n",
        "maxlen = 100\n",
        "\n",
        "X_train = pad_sequences(X_train, padding='post', maxlen=maxlen)\n",
        "X_test = pad_sequences(X_test, padding='post', maxlen=maxlen)"
      ],
      "execution_count": null,
      "outputs": []
    },
    {
      "cell_type": "code",
      "metadata": {
        "id": "WReww0aXtKwF",
        "colab_type": "code",
        "colab": {}
      },
      "source": [
        "from numpy import array\n",
        "from numpy import asarray\n",
        "from numpy import zeros\n",
        "\n",
        "embedd_dict= dict()\n",
        "glove_embeddings = open('/gdrive/My Drive/datasets/glove.6B.100d.txt', encoding=\"utf8\")\n"
      ],
      "execution_count": null,
      "outputs": []
    },
    {
      "cell_type": "code",
      "metadata": {
        "id": "4WY9Kz7ttOQS",
        "colab_type": "code",
        "colab": {}
      },
      "source": [
        "for embeddings in glove_embeddings:\n",
        "    embedding_tokens = embeddings.split()\n",
        "    emb_word = embedding_tokens [0]\n",
        "    emb_vector = asarray(   embedding_tokens[1:], dtype='float32')\n",
        "    embedd_dict [emb_word] = emb_vector \n",
        "\n",
        "glove_embeddings.close()"
      ],
      "execution_count": null,
      "outputs": []
    },
    {
      "cell_type": "code",
      "metadata": {
        "id": "wHALTmDMtQYC",
        "colab_type": "code",
        "colab": {}
      },
      "source": [
        "embedd_mat= zeros((vocab_size, 100))\n",
        "for word, index in tokenizer.word_index.items():\n",
        "    embedding_vector = embedd_dict.get(word)\n",
        "    if embedding_vector is not None:\n",
        "        embedd_mat[index] = embedding_vector"
      ],
      "execution_count": null,
      "outputs": []
    },
    {
      "cell_type": "code",
      "metadata": {
        "id": "3qt8wxJ3tTCC",
        "colab_type": "code",
        "colab": {
          "base_uri": "https://localhost:8080/",
          "height": 34
        },
        "outputId": "ba7ef7e5-1d81-4d2a-a4f4-afa76ce78817"
      },
      "source": [
        "embedd_mat.shape"
      ],
      "execution_count": null,
      "outputs": [
        {
          "output_type": "execute_result",
          "data": {
            "text/plain": [
              "(92547, 100)"
            ]
          },
          "metadata": {
            "tags": []
          },
          "execution_count": 16
        }
      ]
    },
    {
      "cell_type": "code",
      "metadata": {
        "id": "Nyx09CIG1h_C",
        "colab_type": "code",
        "colab": {}
      },
      "source": [
        "embedding_inputs = Input(shape=(maxlen))\n",
        "embedding_layer = Embedding(vocab_size, 100, weights=[embedd_mat], trainable=False)(embedding_inputs )\n",
        "conv1 = Conv1D(128, 3, strides = 2, activation= 'relu')(embedding_layer)\n",
        "conv2 = Conv1D(64, 3, strides = 2, activation= 'relu')(conv1)\n",
        "flat1 = Flatten()(conv2)\n",
        "drop1 = Dropout(0.2)(flat1)\n",
        "dense1 = Dense(512, activation = 'relu')(drop1)\n",
        "drop2  = Dropout(0.2)(dense1)\n",
        "output_layer = Dense(1, activation= 'sigmoid')(drop2)\n",
        "\n",
        "model = Model(embedding_inputs, output_layer )"
      ],
      "execution_count": null,
      "outputs": []
    },
    {
      "cell_type": "code",
      "metadata": {
        "id": "UKnwoXqovAel",
        "colab_type": "code",
        "colab": {}
      },
      "source": [
        "model.compile(optimizer='adam', loss='binary_crossentropy', metrics=['accuracy'])"
      ],
      "execution_count": null,
      "outputs": []
    },
    {
      "cell_type": "code",
      "metadata": {
        "id": "uzGrmXOlvnF3",
        "colab_type": "code",
        "colab": {
          "base_uri": "https://localhost:8080/",
          "height": 976
        },
        "outputId": "851535ff-89c6-4fb9-850a-a7e58724a7d9"
      },
      "source": [
        "from tensorflow.keras.utils import plot_model\n",
        "plot_model(model, to_file='model_plot1.png', show_shapes=True, show_layer_names=True)"
      ],
      "execution_count": null,
      "outputs": [
        {
          "output_type": "execute_result",
          "data": {
            "image/png": "[encoded data removed]",
            "text/plain": [
              "<IPython.core.display.Image object>"
            ]
          },
          "metadata": {
            "tags": []
          },
          "execution_count": 20
        }
      ]
    },
    {
      "cell_type": "code",
      "metadata": {
        "id": "zMZ_wRyAvr4z",
        "colab_type": "code",
        "colab": {
          "base_uri": "https://localhost:8080/",
          "height": 374
        },
        "outputId": "97d18194-f6a0-49cd-d0e9-5acbe699647f"
      },
      "source": [
        "history = model.fit(X_train, y_train, batch_size= 64, epochs=10, verbose=1, validation_split=0.2)\n",
        "\n",
        "score = model.evaluate(X_test, y_test, verbose=1)"
      ],
      "execution_count": null,
      "outputs": [
        {
          "output_type": "stream",
          "text": [
            "Epoch 1/10\n",
            "500/500 [==============================] - 19s 37ms/step - loss: 0.5289 - accuracy: 0.7250 - val_loss: 0.4257 - val_accuracy: 0.8040\n",
            "Epoch 2/10\n",
            "500/500 [==============================] - 19s 37ms/step - loss: 0.4055 - accuracy: 0.8146 - val_loss: 0.3895 - val_accuracy: 0.8164\n",
            "Epoch 3/10\n",
            "500/500 [==============================] - 18s 37ms/step - loss: 0.3660 - accuracy: 0.8346 - val_loss: 0.3856 - val_accuracy: 0.8250\n",
            "Epoch 4/10\n",
            "500/500 [==============================] - 19s 38ms/step - loss: 0.3135 - accuracy: 0.8631 - val_loss: 0.3936 - val_accuracy: 0.8267\n",
            "Epoch 5/10\n",
            "500/500 [==============================] - 19s 39ms/step - loss: 0.2682 - accuracy: 0.8841 - val_loss: 0.4436 - val_accuracy: 0.8109\n",
            "Epoch 6/10\n",
            "500/500 [==============================] - 19s 39ms/step - loss: 0.2238 - accuracy: 0.9066 - val_loss: 0.4731 - val_accuracy: 0.8177\n",
            "Epoch 7/10\n",
            "500/500 [==============================] - 19s 38ms/step - loss: 0.1810 - accuracy: 0.9257 - val_loss: 0.4826 - val_accuracy: 0.8154\n",
            "Epoch 8/10\n",
            "500/500 [==============================] - 19s 38ms/step - loss: 0.1494 - accuracy: 0.9402 - val_loss: 0.5777 - val_accuracy: 0.7960\n",
            "Epoch 9/10\n",
            "500/500 [==============================] - 19s 38ms/step - loss: 0.1180 - accuracy: 0.9534 - val_loss: 0.5960 - val_accuracy: 0.8106\n",
            "Epoch 10/10\n",
            "500/500 [==============================] - 19s 38ms/step - loss: 0.0979 - accuracy: 0.9623 - val_loss: 0.6725 - val_accuracy: 0.8056\n",
            "313/313 [==============================] - 2s 7ms/step - loss: 0.6692 - accuracy: 0.8042\n"
          ],
          "name": "stdout"
        }
      ]
    },
    {
      "cell_type": "code",
      "metadata": {
        "id": "92zC56QlwhfS",
        "colab_type": "code",
        "colab": {
          "base_uri": "https://localhost:8080/",
          "height": 180
        },
        "outputId": "d21a014b-16e8-4a35-f8de-12d275a2da58"
      },
      "source": [
        "print(score[0])\n",
        "print(score[1])"
      ],
      "execution_count": 1,
      "outputs": [
        {
          "output_type": "error",
          "ename": "NameError",
          "evalue": "ignored",
          "traceback": [
            "\u001b[0;31m---------------------------------------------------------------------------\u001b[0m",
            "\u001b[0;31mNameError\u001b[0m                                 Traceback (most recent call last)",
            "\u001b[0;32m<ipython-input-1-2be7f7a9cc11>\u001b[0m in \u001b[0;36m<module>\u001b[0;34m()\u001b[0m\n\u001b[0;32m----> 1\u001b[0;31m \u001b[0mprint\u001b[0m\u001b[0;34m(\u001b[0m\u001b[0mscore\u001b[0m\u001b[0;34m[\u001b[0m\u001b[0;36m0\u001b[0m\u001b[0;34m]\u001b[0m\u001b[0;34m)\u001b[0m\u001b[0;34m\u001b[0m\u001b[0;34m\u001b[0m\u001b[0m\n\u001b[0m\u001b[1;32m      2\u001b[0m \u001b[0mprint\u001b[0m\u001b[0;34m(\u001b[0m\u001b[0mscore\u001b[0m\u001b[0;34m[\u001b[0m\u001b[0;36m1\u001b[0m\u001b[0;34m]\u001b[0m\u001b[0;34m)\u001b[0m\u001b[0;34m\u001b[0m\u001b[0;34m\u001b[0m\u001b[0m\n",
            "\u001b[0;31mNameError\u001b[0m: name 'score' is not defined"
          ]
        }
      ]
    },
    {
      "cell_type": "markdown",
      "metadata": {
        "id": "SxNg-i983yXM",
        "colab_type": "text"
      },
      "source": [
        "## Exercise 10.1\n",
        "\n",
        "**Question 1:**\n",
        "\n",
        "Which of the following is not a pre trained word embedding?\n",
        "\n",
        "A.\tGlove\n",
        "\n",
        "B.\tStanford\n",
        "\n",
        "C.\tPeeking\n",
        "\n",
        "D.\tAll of the above\n",
        "\n",
        "Answer: C\n",
        "\n",
        "**Question 2:**\n",
        "\n",
        "What should be the first argument to the Keras Embedding Layer.\n",
        "\n",
        "A.\tThe input vector dimensions\n",
        "\n",
        "B.\tThe output vector dimensions\n",
        "\n",
        "C.\tThe word embedding size\n",
        "\n",
        "D.\tThe vocabulary size\n",
        "\n",
        "Answer: D\n",
        "\n",
        "**Question 3:**\n",
        "\n",
        "Which layer will you need to use if you want to directly connect the Embedding Layer with a Dense Layer?\n",
        "\n",
        "A.\tLSTM layer with return_sequence set to False\n",
        "\n",
        "B.\tCNN layer with max pooling\n",
        "\n",
        "C.\tFlatten layer\n",
        "\n",
        "D.\tNone of the Above\n",
        "\n",
        "Answer: C\n"
      ]
    },
    {
      "cell_type": "markdown",
      "metadata": {
        "id": "kWNA0rd4sL1B",
        "colab_type": "text"
      },
      "source": [
        "## Exercise 10.2\n",
        "\n",
        "Using the airline_review.csv dataset, that we used for sentiment classification in section 10.1, perform sentiment classification using a DNN (Densely connected neural networks)\n",
        "See if you can get better results with DNN as compared to the results in section 10.1.\n"
      ]
    },
    {
      "cell_type": "markdown",
      "metadata": {
        "id": "DtYVAnqosQmg",
        "colab_type": "text"
      },
      "source": [
        "**Solution:**"
      ]
    },
    {
      "cell_type": "code",
      "metadata": {
        "id": "YYS6ZHpfsTnn",
        "colab_type": "code",
        "colab": {}
      },
      "source": [
        "\n",
        "import pandas as pd\n",
        "import numpy as np\n",
        "import re\n",
        "import nltk\n",
        "from nltk.corpus import stopwords\n",
        "\n",
        "from numpy import array\n",
        "from tensorflow.keras.preprocessing.text import one_hot\n",
        "from tensorflow.keras.preprocessing.sequence import pad_sequences\n",
        "from tensorflow.keras.models import Sequential\n",
        "from tensorflow.keras.layers import Activation, LSTM, Dropout, Dense, Flatten, Input,  Embedding, Conv1D, Input\n",
        "from tensorflow.keras.models import Model\n",
        "from sklearn.model_selection import train_test_split\n",
        "from tensorflow.keras.preprocessing.text import Tokenizer\n",
        "from google.colab import drive\n",
        "drive.mount('/gdrive')\n",
        "\n",
        "airline_data = pd.read_csv(\"/gdrive/My Drive/datasets/airline_review.csv\")\n",
        "airline_data.head()\n",
        "\n",
        "\n",
        "X = airline_data[\"text\"]\n",
        "\n",
        "y = pd.get_dummies(airline_data.airline_sentiment, prefix='sent').values\n",
        "\n",
        "def clean_text(doc):\n",
        "\n",
        "    document = remove_tags(doc)\n",
        "\n",
        "    document = re.sub('[^a-zA-Z]', ' ', document)\n",
        "\n",
        "    document = re.sub(r\"\\s+[a-zA-Z]\\s+\", ' ', document)\n",
        "\n",
        "    document = re.sub(r'\\s+', ' ', document)\n",
        "\n",
        "    return document\n",
        "TAG_RE = re.compile(r'<[^>]+>')\n",
        "\n",
        "def remove_tags(document):\n",
        "    return TAG_RE.sub('', document)\n",
        "X_sentences = []\n",
        "reviews = list(X)\n",
        "for rev in reviews:\n",
        "    X_sentences.append(clean_text(rev))\n",
        "X_train, X_test, y_train, y_test = train_test_split(X_sentences, y, test_size=0.20, random_state=42)\n",
        "tokenizer = Tokenizer(num_words=5000)\n",
        "tokenizer.fit_on_texts(X_train)\n",
        "\n",
        "X_train = tokenizer.texts_to_sequences(X_train)\n",
        "X_test = tokenizer.texts_to_sequences(X_test)\n",
        "vocab_size = len(tokenizer.word_index) + 1\n",
        "\n",
        "maxlen = 100\n",
        "\n",
        "X_train = pad_sequences(X_train, padding='post', maxlen=maxlen)\n",
        "X_test = pad_sequences(X_test, padding='post', maxlen=maxlen)\n",
        "from numpy import array\n",
        "from numpy import asarray\n",
        "from numpy import zeros\n",
        "\n",
        "embedd_dict= dict()\n",
        "glove_embeddings = open('/gdrive/My Drive/datasets/glove.6B.100d.txt', encoding=\"utf8\")\n",
        "\n",
        "for embeddings in glove_embeddings:\n",
        "    embedding_tokens = embeddings.split()\n",
        "    emb_word = embedding_tokens [0]\n",
        "    emb_vector = asarray(   embedding_tokens[1:], dtype='float32')\n",
        "    embedd_dict [emb_word] = emb_vector \n",
        "\n",
        "glove_embeddings.close()\n",
        "embedd_mat= zeros((vocab_size, 100))\n",
        "for word, index in tokenizer.word_index.items():\n",
        "    embedding_vector = embedd_dict.get(word)\n",
        "    if embedding_vector is not None:\n",
        "        embedd_mat[index] = embedding_vector\n",
        "embedd_mat.shape\n",
        "\n",
        "embedding_inputs = Input(shape=(maxlen))\n",
        "embedding_layer = Embedding(vocab_size, 100, weights=[embedd_mat], trainable=False)(embedding_inputs )\n",
        "flatten_layer = Flatten()(embedding_layer)\n",
        "\n",
        "dense1 = Dense(512, activation='relu')(flatten_layer)\n",
        "do1 = Dropout(0.3)(dense1)\n",
        "\n",
        "dense2 = Dense(512, activation='relu')(do1)\n",
        "do2 = Dropout(0.3)(dense2)\n",
        "\n",
        "dense3 = Dense(512, activation='relu')(do2)\n",
        "do3 = Dropout(0.3)(dense3)\n",
        "\n",
        "output_layer = Dense(y_train.shape[1], activation='softmax')(do3)\n",
        "model = Model(embedding_inputs, output_layer)\n",
        "\n",
        "model.compile(optimizer='adam', loss='categorical_crossentropy', metrics=['accuracy'])\n",
        "\n",
        "from tensorflow.keras.utils import plot_model\n",
        "plot_model(model, to_file='model_plot1.png', show_shapes=True, show_layer_names=True)\n",
        "history = model.fit(X_train, y_train, batch_size= 128, epochs=10, verbose=1, validation_split=0.2)\n",
        "\n",
        "score = model.evaluate(X_test, y_test, verbose=1)\n",
        "print(score[0])\n",
        "print(score[1])\n",
        "\n"
      ],
      "execution_count": null,
      "outputs": []
    }
  ]
}